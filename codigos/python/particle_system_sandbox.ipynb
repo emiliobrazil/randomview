{
 "cells": [
  {
   "cell_type": "code",
   "execution_count": 2,
   "id": "d648d2b3",
   "metadata": {},
   "outputs": [],
   "source": [
    "import torch\n",
    "import torch.distributions as dist\n",
    "import scipy.stats as stats\n",
    "import matplotlib.pyplot as plt\n",
    "import matplotlib.animation as animation\n",
    "\n",
    "%matplotlib macosx"
   ]
  },
  {
   "cell_type": "code",
   "execution_count": 3,
   "id": "56499079",
   "metadata": {},
   "outputs": [
    {
     "name": "stdout",
     "output_type": "stream",
     "text": [
      "torch.Size([3, 6, 5])\n",
      "torch.Size([7, 6])\n",
      "torch.Size([3, 7, 5])\n"
     ]
    }
   ],
   "source": [
    "S = torch.tensor([[[i+j*10+k*100 for j in range(5)]for i in range(6)] for k in range(3)], dtype=torch.float32)\n",
    "D = torch.tensor([[i*j*1e-3 for j in range(1,7)]for i in range(1,8)], dtype=torch.float32)\n",
    "\n",
    "print(S.shape)\n",
    "print(D.shape)\n",
    "# tensor matriz multiplication\n",
    "result = torch.matmul(D,S)\n",
    "print(result.shape)     \n",
    "# Output:"
   ]
  },
  {
   "cell_type": "code",
   "execution_count": 4,
   "id": "a93e70bf",
   "metadata": {},
   "outputs": [
    {
     "name": "stdout",
     "output_type": "stream",
     "text": [
      "tensor([[1665.2599,  176.1533,   28.0372,   61.8147,   84.5176,  244.7314],\n",
      "        [ 773.2141,   87.9213,  363.5797,   86.6103,   94.9722,  290.6422],\n",
      "        [ 661.2239,  233.0332,   47.2806,    6.9104,   16.8565,    4.5003],\n",
      "        [ 224.0149,    5.1182,  131.6726,   27.8145,   14.7444,   83.2639],\n",
      "        [  99.8607,  129.4865,  145.1152,    3.0843,   14.8113,   35.2229],\n",
      "        [  87.1474,  123.1670,  106.0655,   25.4124,   63.2059,   20.0016],\n",
      "        [ 106.4156,   44.1319,   12.5505,   86.8919,   10.7864,   24.2725]])\n",
      "tensor([0.0010, 0.0020, 0.0030, 0.0040, 0.0050, 0.0060])\n"
     ]
    }
   ],
   "source": [
    "m = dist.exponential.Exponential(D).sample()\n",
    "print(m)\n",
    "print(D[0])\n"
   ]
  },
  {
   "cell_type": "code",
   "execution_count": 5,
   "id": "9f72efb9",
   "metadata": {},
   "outputs": [
    {
     "data": {
      "text/plain": [
       "(array([2.00351852e-03, 6.66368563e-04, 2.82985959e-04, 1.39010646e-04,\n",
       "        7.61248778e-05, 4.19238458e-05, 3.58559352e-05, 1.87553971e-05,\n",
       "        1.32391038e-05, 9.92933590e-06, 3.30977863e-06, 4.96466394e-06,\n",
       "        5.51629327e-06, 4.41304175e-06, 5.51629327e-07, 1.10325865e-06,\n",
       "        5.51629327e-07, 0.00000000e+00, 5.51630218e-07, 1.10325865e-06]),\n",
       " array([3.44225345e-03, 3.02138580e+02, 6.04273682e+02, 9.06408813e+02,\n",
       "        1.20854395e+03, 1.51067908e+03, 1.81281421e+03, 2.11494922e+03,\n",
       "        2.41708447e+03, 2.71921973e+03, 3.02135474e+03, 3.32348975e+03,\n",
       "        3.62562500e+03, 3.92776025e+03, 4.22989502e+03, 4.53203027e+03,\n",
       "        4.83416553e+03, 5.13630078e+03, 5.43843604e+03, 5.74057080e+03,\n",
       "        6.04270605e+03]),\n",
       " <BarContainer object of 20 artists>)"
      ]
     },
     "execution_count": 5,
     "metadata": {},
     "output_type": "execute_result"
    }
   ],
   "source": [
    "ns = 1000\n",
    "tde = dist.exponential.Exponential(D[0]).sample((ns,)).view(-1)\n",
    "spe = torch.zeros_like(tde)\n",
    "for i, alpha in enumerate(D[0]):\n",
    "    t =  torch.tensor(stats.expon.rvs(scale=1/alpha,size=ns),dtype=torch.float32)\n",
    "    spe[i*ns:(i+1)*ns] = t\n",
    "# show a histogram of the samples\n",
    "fig, ax = plt.subplots(2)\n",
    "ax[0].hist(tde, bins=20, density=True, alpha=0.6, color='b')\n",
    "ax[1].hist(spe, bins=20, density=True, alpha=0.6, color='g')"
   ]
  },
  {
   "cell_type": "code",
   "execution_count": null,
   "id": "023c1a46",
   "metadata": {},
   "outputs": [],
   "source": [
    "global_inter = []\n",
    "\n",
    "class ParticleGrid:\n",
    "    \n",
    "    def __init__(self, N: int = 1000, b= 100.0, k: float = 10.0, jl: float = 200, jr: float = 200, init_func=None):\n",
    "        self.N = N\n",
    "        self.particles = torch.zeros((N, 4), dtype=torch.float32)\n",
    "        self.init_func = init_func\n",
    "        if self.init_func is None:\n",
    "            self.init_func = lambda x: (torch.cos(2*torch.pi*x)+1)/2.0\n",
    "        self.b = b\n",
    "        self.k = k\n",
    "        self.jl = jl\n",
    "        self.jr = jr\n",
    "        self.epsilon = 1e-8\n",
    "        self.count = 0\n",
    "        self.initialize(f)\n",
    "\n",
    "    def initialize(self, f):\n",
    "        x = torch.linspace(-1., 1., self.N)\n",
    "        y = f(x)\n",
    "        r = torch.distributions.uniform.Uniform(0, 1).sample((self.N,))\n",
    "        self.grid = torch.zeros(self.N, dtype=torch.int)\n",
    "        index = y>r\n",
    "        self.grid[index]+=1\n",
    "        self.cloks_parameters = torch.zeros((self.N, 4), dtype=torch.float32)\n",
    "        self.clocks = torch.zeros((self.N, 4), dtype=torch.float32)\n",
    "        self.update_clocks()\n",
    "    \n",
    "    def update_clocks(self, interval=slice(None)):\n",
    "        self.count += 1\n",
    "        self.cloks_parameters[interval, 0] = self.grid[interval,]*self.b  + self.epsilon\n",
    "        self.cloks_parameters[interval, 1] = self.grid[interval,]*self.k  + self.epsilon\n",
    "        self.cloks_parameters[interval, 2] = self.grid[interval,]*self.jl + self.epsilon\n",
    "        self.cloks_parameters[interval, 3] = self.grid[interval,]*self.jr + self.epsilon\n",
    "        self.clocks[interval,:] = dist.exponential.Exponential(self.cloks_parameters[interval,:]).sample()\n",
    "        \n",
    "\n",
    "    def run(self, steps: int = 100):\n",
    "        for _ in range(steps):\n",
    "            next_site = torch.argmin(self.clocks)\n",
    "            next_site = torch.unravel_index(next_site, self.clocks.shape)\n",
    "            pass_time = self.clocks[next_site].item()\n",
    "            self.clocks -= pass_time\n",
    "            self.clocks[next_site] = torch.inf\n",
    "            self.update_site(next_site)\n",
    "\n",
    "    def update_site(self, next_site):\n",
    "        clock_type = next_site[1]\n",
    "        if clock_type == 0:\n",
    "            self.grid[next_site[0]] += 1\n",
    "            self.update_clocks(next_site[0])\n",
    "        elif clock_type == 1:\n",
    "            if self.grid[next_site[0]] > 0:\n",
    "                self.grid[next_site[0]] -= 1\n",
    "                self.update_clocks(next_site[0])\n",
    "        elif clock_type == 2:\n",
    "            if self.grid[next_site[0]] > 0:\n",
    "                nn = (next_site[0] + 1) % self.N\n",
    "                self.grid[next_site[0]] -= 1\n",
    "                self.grid[nn] += 1\n",
    "                self.update_clocks((next_site[0].item(), nn.item()))\n",
    "        elif clock_type == 3:\n",
    "            if self.grid[next_site[0]] > 0:\n",
    "                nn = (next_site[0] - 1) % self.N\n",
    "                self.grid[next_site[0]] -= 1\n",
    "                self.grid[nn] += 1\n",
    "                self.update_clocks((next_site[0].item(), nn.item()))\n",
    "        "
   ]
  },
  {
   "cell_type": "code",
   "execution_count": 32,
   "id": "27ac2c18",
   "metadata": {},
   "outputs": [],
   "source": [
    "#plot grid\n",
    "def plot_grid(grid):\n",
    "    plt.plot(grid, marker='o', linestyle='', markersize=2)\n",
    "    plt.xlabel('Particle index')\n",
    "    plt.ylabel('Number of particles')\n",
    "    plt.title('Particle grid')\n",
    "    plt.show()\n",
    "\n"
   ]
  },
  {
   "cell_type": "code",
   "execution_count": 33,
   "id": "4b60f8ea",
   "metadata": {},
   "outputs": [],
   "source": [
    "pg = ParticleGrid(2048)\n",
    "pg.run(2**15)\n",
    "plot_grid(pg.grid)\n",
    "\n"
   ]
  },
  {
   "cell_type": "code",
   "execution_count": 34,
   "id": "523a2275",
   "metadata": {},
   "outputs": [],
   "source": [
    "pg = ParticleGrid(2048)\n",
    "plot_grid(pg.grid)\n",
    "for _ in range(4):\n",
    "    pg.run(2**10)\n",
    "    plot_grid(pg.grid)\n"
   ]
  },
  {
   "cell_type": "code",
   "execution_count": 42,
   "id": "91bf9a99",
   "metadata": {},
   "outputs": [],
   "source": [
    "# animation of the particle grid\n",
    "pg = ParticleGrid(1024, b=1, k=.004, jl=40, jr=40)\n",
    "fig, ax = plt.subplots()\n",
    "\n",
    "line, = ax.plot(pg.grid, marker='o', linestyle='')\n",
    "ax.set_ylim(-0.1,1.1)\n",
    "\n",
    "ax.set_xlabel('Particle index')\n",
    "ax.set_ylabel('Number of particles')\n",
    "ax.set_title('Particle grid')\n",
    "def update(frame):\n",
    "    pg.run(2**5)\n",
    "    line.set_ydata(pg.grid/pg.grid.max())  # Normalize the grid for better visualization\n",
    "    ax.set_xlabel(f'Particle index {pg.count}')\n",
    "    ax.set_title(f'Particle grid \\n B={pg.b}, K={pg.k}, JL={pg.jl}, JR={pg.jr} \\n Max #particles:{pg.grid.max()} - Total particles: {pg.grid.sum()}')\n",
    "\n",
    "    return line,\n",
    "\n",
    "ani = animation.FuncAnimation(fig=fig, func=update, frames=100, interval=2, blit=False)\n",
    "fig.show()"
   ]
  },
  {
   "cell_type": "code",
   "execution_count": null,
   "id": "4fe67778",
   "metadata": {},
   "outputs": [],
   "source": []
  }
 ],
 "metadata": {
  "kernelspec": {
   "display_name": "ptorchp3p12",
   "language": "python",
   "name": "python3"
  },
  "language_info": {
   "codemirror_mode": {
    "name": "ipython",
    "version": 3
   },
   "file_extension": ".py",
   "mimetype": "text/x-python",
   "name": "python",
   "nbconvert_exporter": "python",
   "pygments_lexer": "ipython3",
   "version": "3.12.2"
  }
 },
 "nbformat": 4,
 "nbformat_minor": 5
}
